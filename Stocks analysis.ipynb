{
 "cells": [
  {
   "cell_type": "markdown",
   "metadata": {},
   "source": [
    "### 1. Импорт библиотек"
   ]
  },
  {
   "cell_type": "code",
   "execution_count": 2,
   "metadata": {},
   "outputs": [],
   "source": [
    "import numpy as np\n",
    "import pandas as pd\n",
    "import matplotlib.pyplot as plt\n",
    "from scipy import stats\n",
    "import statsmodels.api as sm\n",
    "import seaborn as sns\n",
    "import warnings \n",
    "\n",
    "warnings.filterwarnings(\"ignore\")\n",
    "%matplotlib inline\n",
    "plt.style.use(\"ggplot\")\n",
    "plt.rcParams[\"figure.figsize\"] = (8, 8)"
   ]
  },
  {
   "cell_type": "markdown",
   "metadata": {},
   "source": [
    "### 2. Загрузка данных"
   ]
  },
  {
   "cell_type": "markdown",
   "metadata": {},
   "source": [
    "В папке с нашими данными присутствуют акции отдельных компаний, но нас интересует датасет со всеми компаниями, поэтому загрузим именно его"
   ]
  },
  {
   "cell_type": "code",
   "execution_count": 4,
   "metadata": {},
   "outputs": [
    {
     "data": {
      "text/html": [
       "<div>\n",
       "<style scoped>\n",
       "    .dataframe tbody tr th:only-of-type {\n",
       "        vertical-align: middle;\n",
       "    }\n",
       "\n",
       "    .dataframe tbody tr th {\n",
       "        vertical-align: top;\n",
       "    }\n",
       "\n",
       "    .dataframe thead th {\n",
       "        text-align: right;\n",
       "    }\n",
       "</style>\n",
       "<table border=\"1\" class=\"dataframe\">\n",
       "  <thead>\n",
       "    <tr style=\"text-align: right;\">\n",
       "      <th></th>\n",
       "      <th>Date</th>\n",
       "      <th>Open</th>\n",
       "      <th>High</th>\n",
       "      <th>Low</th>\n",
       "      <th>Close</th>\n",
       "      <th>Volume</th>\n",
       "      <th>Name</th>\n",
       "    </tr>\n",
       "  </thead>\n",
       "  <tbody>\n",
       "    <tr>\n",
       "      <th>0</th>\n",
       "      <td>2006-01-03</td>\n",
       "      <td>77.76</td>\n",
       "      <td>79.35</td>\n",
       "      <td>77.24</td>\n",
       "      <td>79.11</td>\n",
       "      <td>3117200</td>\n",
       "      <td>MMM</td>\n",
       "    </tr>\n",
       "    <tr>\n",
       "      <th>1</th>\n",
       "      <td>2006-01-04</td>\n",
       "      <td>79.49</td>\n",
       "      <td>79.49</td>\n",
       "      <td>78.25</td>\n",
       "      <td>78.71</td>\n",
       "      <td>2558000</td>\n",
       "      <td>MMM</td>\n",
       "    </tr>\n",
       "    <tr>\n",
       "      <th>2</th>\n",
       "      <td>2006-01-05</td>\n",
       "      <td>78.41</td>\n",
       "      <td>78.65</td>\n",
       "      <td>77.56</td>\n",
       "      <td>77.99</td>\n",
       "      <td>2529500</td>\n",
       "      <td>MMM</td>\n",
       "    </tr>\n",
       "    <tr>\n",
       "      <th>3</th>\n",
       "      <td>2006-01-06</td>\n",
       "      <td>78.64</td>\n",
       "      <td>78.90</td>\n",
       "      <td>77.64</td>\n",
       "      <td>78.63</td>\n",
       "      <td>2479500</td>\n",
       "      <td>MMM</td>\n",
       "    </tr>\n",
       "    <tr>\n",
       "      <th>4</th>\n",
       "      <td>2006-01-09</td>\n",
       "      <td>78.50</td>\n",
       "      <td>79.83</td>\n",
       "      <td>78.46</td>\n",
       "      <td>79.02</td>\n",
       "      <td>1845600</td>\n",
       "      <td>MMM</td>\n",
       "    </tr>\n",
       "  </tbody>\n",
       "</table>\n",
       "</div>"
      ],
      "text/plain": [
       "         Date   Open   High    Low  Close   Volume Name\n",
       "0  2006-01-03  77.76  79.35  77.24  79.11  3117200  MMM\n",
       "1  2006-01-04  79.49  79.49  78.25  78.71  2558000  MMM\n",
       "2  2006-01-05  78.41  78.65  77.56  77.99  2529500  MMM\n",
       "3  2006-01-06  78.64  78.90  77.64  78.63  2479500  MMM\n",
       "4  2006-01-09  78.50  79.83  78.46  79.02  1845600  MMM"
      ]
     },
     "execution_count": 4,
     "metadata": {},
     "output_type": "execute_result"
    }
   ],
   "source": [
    "df = pd.read_csv(r\"C:\\Users\\Sergei\\Desktop\\datasets\\all_stocks_2006-01-01_to_2018-01-01.csv\")\n",
    "df.head()"
   ]
  },
  {
   "cell_type": "markdown",
   "metadata": {},
   "source": [
    "### 3. Разведочный анализ данных (EDA)"
   ]
  },
  {
   "cell_type": "markdown",
   "metadata": {},
   "source": [
    "Посмотрим по внимательней на наши данные\n",
    "1. **Date** - дата продажи/покупки трейдинга\n",
    "2. **Open** - цена на момент открытия акции\n",
    "3. **High** - самая высокая цена акции\n",
    "4. **Low** - самая низкая цена акции\n",
    "5. **Close** - цена на момент закрытия\n",
    "6. **Volume** - объём проданных акции\n",
    "7. **Name** - название компании"
   ]
  },
  {
   "cell_type": "code",
   "execution_count": 5,
   "metadata": {},
   "outputs": [
    {
     "data": {
      "text/html": [
       "<div>\n",
       "<style scoped>\n",
       "    .dataframe tbody tr th:only-of-type {\n",
       "        vertical-align: middle;\n",
       "    }\n",
       "\n",
       "    .dataframe tbody tr th {\n",
       "        vertical-align: top;\n",
       "    }\n",
       "\n",
       "    .dataframe thead th {\n",
       "        text-align: right;\n",
       "    }\n",
       "</style>\n",
       "<table border=\"1\" class=\"dataframe\">\n",
       "  <thead>\n",
       "    <tr style=\"text-align: right;\">\n",
       "      <th></th>\n",
       "      <th>Date</th>\n",
       "      <th>Open</th>\n",
       "      <th>High</th>\n",
       "      <th>Low</th>\n",
       "      <th>Close</th>\n",
       "      <th>Volume</th>\n",
       "      <th>Name</th>\n",
       "    </tr>\n",
       "  </thead>\n",
       "  <tbody>\n",
       "    <tr>\n",
       "      <th>93607</th>\n",
       "      <td>2017-12-22</td>\n",
       "      <td>71.42</td>\n",
       "      <td>71.87</td>\n",
       "      <td>71.22</td>\n",
       "      <td>71.58</td>\n",
       "      <td>10979165</td>\n",
       "      <td>AABA</td>\n",
       "    </tr>\n",
       "    <tr>\n",
       "      <th>93608</th>\n",
       "      <td>2017-12-26</td>\n",
       "      <td>70.94</td>\n",
       "      <td>71.39</td>\n",
       "      <td>69.63</td>\n",
       "      <td>69.86</td>\n",
       "      <td>8542802</td>\n",
       "      <td>AABA</td>\n",
       "    </tr>\n",
       "    <tr>\n",
       "      <th>93609</th>\n",
       "      <td>2017-12-27</td>\n",
       "      <td>69.77</td>\n",
       "      <td>70.49</td>\n",
       "      <td>69.69</td>\n",
       "      <td>70.06</td>\n",
       "      <td>6345124</td>\n",
       "      <td>AABA</td>\n",
       "    </tr>\n",
       "    <tr>\n",
       "      <th>93610</th>\n",
       "      <td>2017-12-28</td>\n",
       "      <td>70.12</td>\n",
       "      <td>70.32</td>\n",
       "      <td>69.51</td>\n",
       "      <td>69.82</td>\n",
       "      <td>7556877</td>\n",
       "      <td>AABA</td>\n",
       "    </tr>\n",
       "    <tr>\n",
       "      <th>93611</th>\n",
       "      <td>2017-12-29</td>\n",
       "      <td>69.79</td>\n",
       "      <td>70.13</td>\n",
       "      <td>69.43</td>\n",
       "      <td>69.85</td>\n",
       "      <td>6613070</td>\n",
       "      <td>AABA</td>\n",
       "    </tr>\n",
       "  </tbody>\n",
       "</table>\n",
       "</div>"
      ],
      "text/plain": [
       "             Date   Open   High    Low  Close    Volume  Name\n",
       "93607  2017-12-22  71.42  71.87  71.22  71.58  10979165  AABA\n",
       "93608  2017-12-26  70.94  71.39  69.63  69.86   8542802  AABA\n",
       "93609  2017-12-27  69.77  70.49  69.69  70.06   6345124  AABA\n",
       "93610  2017-12-28  70.12  70.32  69.51  69.82   7556877  AABA\n",
       "93611  2017-12-29  69.79  70.13  69.43  69.85   6613070  AABA"
      ]
     },
     "execution_count": 5,
     "metadata": {},
     "output_type": "execute_result"
    }
   ],
   "source": [
    "df.tail()"
   ]
  },
  {
   "cell_type": "code",
   "execution_count": 6,
   "metadata": {},
   "outputs": [
    {
     "name": "stdout",
     "output_type": "stream",
     "text": [
      "<class 'pandas.core.frame.DataFrame'>\n",
      "RangeIndex: 93612 entries, 0 to 93611\n",
      "Data columns (total 7 columns):\n",
      " #   Column  Non-Null Count  Dtype  \n",
      "---  ------  --------------  -----  \n",
      " 0   Date    93612 non-null  object \n",
      " 1   Open    93587 non-null  float64\n",
      " 2   High    93602 non-null  float64\n",
      " 3   Low     93592 non-null  float64\n",
      " 4   Close   93612 non-null  float64\n",
      " 5   Volume  93612 non-null  int64  \n",
      " 6   Name    93612 non-null  object \n",
      "dtypes: float64(4), int64(1), object(2)\n",
      "memory usage: 5.0+ MB\n"
     ]
    }
   ],
   "source": [
    "df.info()"
   ]
  },
  {
   "cell_type": "markdown",
   "metadata": {},
   "source": [
    "Проверим данные на отсутствующие значения"
   ]
  },
  {
   "cell_type": "code",
   "execution_count": 7,
   "metadata": {},
   "outputs": [
    {
     "data": {
      "text/plain": [
       "Date       0\n",
       "Open      25\n",
       "High      10\n",
       "Low       20\n",
       "Close      0\n",
       "Volume     0\n",
       "Name       0\n",
       "dtype: int64"
      ]
     },
     "execution_count": 7,
     "metadata": {},
     "output_type": "execute_result"
    }
   ],
   "source": [
    "df.isna().sum()"
   ]
  },
  {
   "cell_type": "code",
   "execution_count": 8,
   "metadata": {},
   "outputs": [
    {
     "data": {
      "text/plain": [
       "Date      0.000\n",
       "Open      0.027\n",
       "High      0.011\n",
       "Low       0.021\n",
       "Close     0.000\n",
       "Volume    0.000\n",
       "Name      0.000\n",
       "dtype: float64"
      ]
     },
     "execution_count": 8,
     "metadata": {},
     "output_type": "execute_result"
    }
   ],
   "source": [
    "np.round(df.isna().sum() * 100 / len(df), 3)"
   ]
  },
  {
   "cell_type": "markdown",
   "metadata": {},
   "source": [
    "Воспользуемся"
   ]
  },
  {
   "cell_type": "code",
   "execution_count": 9,
   "metadata": {},
   "outputs": [],
   "source": [
    "df.interpolate(inplace = True)"
   ]
  },
  {
   "cell_type": "code",
   "execution_count": 10,
   "metadata": {},
   "outputs": [
    {
     "data": {
      "text/plain": [
       "Date      0.0\n",
       "Open      0.0\n",
       "High      0.0\n",
       "Low       0.0\n",
       "Close     0.0\n",
       "Volume    0.0\n",
       "Name      0.0\n",
       "dtype: float64"
      ]
     },
     "execution_count": 10,
     "metadata": {},
     "output_type": "execute_result"
    }
   ],
   "source": [
    "np.round(df.isna().sum() * 100 / len(df), 3)"
   ]
  },
  {
   "cell_type": "code",
   "execution_count": null,
   "metadata": {},
   "outputs": [],
   "source": []
  }
 ],
 "metadata": {
  "kernelspec": {
   "display_name": "Python 3",
   "language": "python",
   "name": "python3"
  },
  "language_info": {
   "codemirror_mode": {
    "name": "ipython",
    "version": 3
   },
   "file_extension": ".py",
   "mimetype": "text/x-python",
   "name": "python",
   "nbconvert_exporter": "python",
   "pygments_lexer": "ipython3",
   "version": "3.8.5"
  }
 },
 "nbformat": 4,
 "nbformat_minor": 4
}
