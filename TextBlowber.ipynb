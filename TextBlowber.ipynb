{
 "cells": [
  {
   "cell_type": "markdown",
   "metadata": {},
   "source": [
    "В данном ноутбуке будет продемонстрировано решение одной из задач сентиментального анализа - **Предсказание эмоциональной окраски отзыва**. Мы разберём с вами загрузку данных из четырёх датасетов: \n",
    "1. **Amazon** (UCI)\n",
    "2. **IMDB** (UCI)\n",
    "3. **Yelp** (UCI)\n",
    "4. **Amazon reviews** (Kaggle)<br>\n",
    "\n",
    "Удалим стоп слова в тексте, выделим основы слов. Далее мы натренируем несколько классификаторов - в том числе и многослойную нейронную сеть на **PyTorch**, сравним несколько метрик (accuracy, confusion_matrix, roc_auc), построим графики и выгрузим нашу модель в Docker. Приступим"
   ]
  },
  {
   "cell_type": "markdown",
   "metadata": {},
   "source": [
    "### 0. Импортируем библиотеки"
   ]
  },
  {
   "cell_type": "code",
   "execution_count": 97,
   "metadata": {},
   "outputs": [],
   "source": [
    "import numpy as np\n",
    "import pandas as pd\n",
    "import sklearn.metrics\n",
    "from sklearn.svm import SVC\n",
    "from sklearn.linear_model import LogisticRegression\n",
    "from sklearn.naive_bayes import GaussianNB\n",
    "from sklearn.model_selection import cross_val_score\n",
    "from sklearn.pipeline import make_pipeline\n",
    "from lightgbm import LGBMClassifier\n",
    "from sklearn.feature_extraction.text import TfidfVectorizer\n",
    "from nltk.corpus import stopwords\n",
    "from nltk.stem.porter import PorterStemmer\n",
    "import matplotlib.pyplot as plt\n",
    "import seaborn as sns\n",
    "import warnings"
   ]
  },
  {
   "cell_type": "code",
   "execution_count": 2,
   "metadata": {},
   "outputs": [],
   "source": [
    "warnings.filterwarnings(\"ignore\")\n",
    "%matplotlib inline\n",
    "plt.style.use(\"ggplot\")\n",
    "plt.rcParams[\"figure.figsize\"] = (10, 10)"
   ]
  },
  {
   "cell_type": "markdown",
   "metadata": {},
   "source": [
    "### 1. Загрузим данные"
   ]
  },
  {
   "cell_type": "markdown",
   "metadata": {},
   "source": [
    "Датасеты, с которыми мы будем работать - были взяты из следующих источников:\n",
    "1. <a href = \"https://www.kaggle.com/sid321axn/amazon-alexa-reviews\">Amazon Alexa Reviews | Kaggle</a>\n",
    "2. <a href = \"https://archive.ics.uci.edu/ml/datasets/Sentiment+Labelled+Sentences\">Sentiment Labelled Sentences Data Set | UCI </a>"
   ]
  },
  {
   "cell_type": "markdown",
   "metadata": {},
   "source": [
    "Датасеты имеют разные форматы. Тот, что с Kaggle - tsv, с UCI - txt. Создадим функции, который будет вытаскивать необходимые для нас данные с обоих форматов"
   ]
  },
  {
   "cell_type": "markdown",
   "metadata": {},
   "source": [
    "Загрузка таблицы/таблиц формата csv/tsv:"
   ]
  },
  {
   "cell_type": "code",
   "execution_count": 55,
   "metadata": {},
   "outputs": [],
   "source": [
    "def TsvLoader(paths, delim, text_attribute, rate_attribute):\n",
    "    dictionary_data = {\"data\": [], \"target\": []} # Сохранять данные мы будем в словарь, можно и любую другую структуру данных,\n",
    "                                                 # мне лично удобнее работать со словарём\n",
    "        \n",
    "    for path in paths:\n",
    "        data = pd.read_csv(path, sep = delim)\n",
    "        data = data[[text_attribute, rate_attribute]] # Нам нужны только колонки с текстом и оценками\n",
    "        data[rate_attribute] = data[rate_attribute].astype(\"int32\")\n",
    "        \n",
    "        # Очищаем данные от пунктуации и цифр, после загружаем в словарь\n",
    "        for index, row in data.iterrows():\n",
    "            line = \"\"\n",
    "            for character in row[text_attribute]:\n",
    "                if character.isalnum() or character == \" \":\n",
    "                    line += character\n",
    "                    \n",
    "            dictionary_data[\"data\"].append(line.lower())\n",
    "            dictionary_data[\"target\"].append(row[rate_attribute])\n",
    "        \n",
    "    return dictionary_data"
   ]
  },
  {
   "cell_type": "markdown",
   "metadata": {},
   "source": [
    "Загрузка данных из формата txt:"
   ]
  },
  {
   "cell_type": "code",
   "execution_count": 47,
   "metadata": {},
   "outputs": [],
   "source": [
    "def TxtLoader(paths):\n",
    "    dictionary_data = {\"data\": [], \"target\": []}\n",
    "    \n",
    "    # Загружаем текст в словарь, попутно очищая от знаков препинания, цифр и приводя к нижнему регистру\n",
    "    for path in paths:\n",
    "        f = open(path, \"r\", encoding = \"UTF-8\")\n",
    "\n",
    "        for text in f.readlines():\n",
    "            line = ''\n",
    "    \n",
    "            for character in text[:-2]:\n",
    "                if character.isalnum() or character == \" \":\n",
    "                    line += character\n",
    "        \n",
    "            dictionary_data[\"data\"].append(line.lower()) # Закидываем в data нашу строку\n",
    "            dictionary_data[\"target\"].append(int(text[-2])) # Закидаываем в target положительный или отрицательный отзыв\n",
    "        f.close()\n",
    "    \n",
    "    return dictionary_data"
   ]
  },
  {
   "cell_type": "markdown",
   "metadata": {},
   "source": [
    "После загрузки данных, из двух функций мы получим два словаря с данными, нужно написать функцию, которая будет их объединять в один общий словарь:"
   ]
  },
  {
   "cell_type": "code",
   "execution_count": 71,
   "metadata": {},
   "outputs": [],
   "source": [
    "def concatenateDict(dictionaris):\n",
    "    extended_dict = {\"data\": [], \"target\": []}\n",
    "    \n",
    "    for dictionary in dictionaris:\n",
    "        extended_dict[\"data\"].extend(dictionary[\"data\"])\n",
    "        extended_dict[\"target\"].extend(dictionary[\"target\"])\n",
    "        \n",
    "    return extended_dict"
   ]
  },
  {
   "cell_type": "markdown",
   "metadata": {},
   "source": [
    "Загружаем данные:"
   ]
  },
  {
   "cell_type": "code",
   "execution_count": 56,
   "metadata": {},
   "outputs": [],
   "source": [
    "path = [r\"C:\\Users\\Sergei\\Desktop\\Downloads\\datasets\\amazon_alexa.tsv\"]\n",
    "\n",
    "tsv_dictionary = TsvLoader(path, \"\\t\", \"verified_reviews\", \"feedback\")"
   ]
  },
  {
   "cell_type": "code",
   "execution_count": 58,
   "metadata": {},
   "outputs": [],
   "source": [
    "path = [r\"C:\\Users\\Sergei\\Desktop\\Downloads\\datasets\\amazon_cells_labelled.txt\", \n",
    "        r\"C:\\Users\\Sergei\\Desktop\\Downloads\\datasets\\imdb_labelled.txt\",\n",
    "        r\"C:\\Users\\Sergei\\Desktop\\Downloads\\datasets\\yelp_labelled.txt\"]\n",
    "\n",
    "txt_dictionary = TxtLoader(path)"
   ]
  },
  {
   "cell_type": "code",
   "execution_count": 59,
   "metadata": {},
   "outputs": [],
   "source": [
    "extended_data = concatenateDict([tsv_dictionary, txt_dictionary])"
   ]
  },
  {
   "cell_type": "markdown",
   "metadata": {},
   "source": [
    "Проверим, совпадают ли размерности начальных словарей и итогового:"
   ]
  },
  {
   "cell_type": "code",
   "execution_count": 60,
   "metadata": {},
   "outputs": [
    {
     "data": {
      "text/plain": [
       "(3150, 3000, 6150)"
      ]
     },
     "execution_count": 60,
     "metadata": {},
     "output_type": "execute_result"
    }
   ],
   "source": [
    "len(tsv_dictionary[\"data\"]), len(txt_dictionary[\"data\"]), len(extended_data[\"data\"])"
   ]
  },
  {
   "cell_type": "code",
   "execution_count": 61,
   "metadata": {},
   "outputs": [
    {
     "data": {
      "text/plain": [
       "(3150, 3000, 6150)"
      ]
     },
     "execution_count": 61,
     "metadata": {},
     "output_type": "execute_result"
    }
   ],
   "source": [
    "len(tsv_dictionary[\"target\"]), len(txt_dictionary[\"target\"]), len(extended_data[\"target\"])"
   ]
  },
  {
   "cell_type": "markdown",
   "metadata": {},
   "source": [
    "Всё совпадает! Приступим к предобработке данных"
   ]
  },
  {
   "cell_type": "markdown",
   "metadata": {},
   "source": [
    "### 2. Предобработка данных"
   ]
  },
  {
   "cell_type": "markdown",
   "metadata": {},
   "source": [
    "Перед разбиением данных на тренировочный и тестовый наборы - нам необходимо предобработать наши тексты. При загрузке наших данных мы уже привели слова к нижнему регистру и удалили знаки пунктуации и цифры. Осталось удалить стоп-слова, которые не несут смысловой нагрузки в тексте (артикли, предлоги и так далее), затем нам необходимо выделить основы слов.  "
   ]
  },
  {
   "cell_type": "code",
   "execution_count": 65,
   "metadata": {},
   "outputs": [],
   "source": [
    "# Удаляем ненужные словари\n",
    "del tsv_dictionary \n",
    "del txt_dictionary"
   ]
  },
  {
   "cell_type": "code",
   "execution_count": 67,
   "metadata": {},
   "outputs": [],
   "source": [
    "def clearData(dictionary_data):\n",
    "    english_stop_words = stopwords.words(\"english\") # Перед использованием, нужно выполнить команду nltk.download('stopwords')\n",
    "    \n",
    "    for i, text in enumerate(dictionary_data[\"data\"]):\n",
    "        line = \"\"\n",
    "        splitted = text.split()\n",
    "        tokenized = [word for word in splitted if word not in english_stop_words]\n",
    "        \n",
    "        # Выделяем основы слов\n",
    "        porter = PorterStemmer()\n",
    "        cleared = [porter.stem(word) for word in tokenized]\n",
    "                   \n",
    "        for word in cleared:\n",
    "            line += (word + \" \")\n",
    "        \n",
    "        dictionary_data[\"data\"][i] = line\n",
    "        \n",
    "    return dictionary_data"
   ]
  },
  {
   "cell_type": "code",
   "execution_count": 68,
   "metadata": {},
   "outputs": [],
   "source": [
    "clear_dict = clearData(extended_data)"
   ]
  },
  {
   "cell_type": "markdown",
   "metadata": {},
   "source": [
    "### 3. Подготавливаем данные"
   ]
  },
  {
   "cell_type": "markdown",
   "metadata": {},
   "source": [
    "Осталось разбить словарь на тренировочный и тестовый наборы"
   ]
  },
  {
   "cell_type": "code",
   "execution_count": 69,
   "metadata": {},
   "outputs": [],
   "source": [
    "def train_test_split(data, train_size = 0.77):\n",
    "    size = int(len(data[\"data\"]) * 0.7)\n",
    "    \n",
    "    train_x = data[\"data\"][:size].copy()\n",
    "    test_x = data[\"data\"][size:].copy()\n",
    "    train_y = data[\"target\"][:size].copy() \n",
    "    test_y = data[\"target\"][size:].copy()\n",
    "    \n",
    "    return train_x, test_x, train_y, test_y"
   ]
  },
  {
   "cell_type": "code",
   "execution_count": 70,
   "metadata": {},
   "outputs": [],
   "source": [
    "train_X, test_X, train_y, test_y = train_test_split(clear_dict, train_size = 0.6)"
   ]
  },
  {
   "cell_type": "markdown",
   "metadata": {},
   "source": [
    "### 4. Тренировка моделей"
   ]
  },
  {
   "cell_type": "code",
   "execution_count": 91,
   "metadata": {},
   "outputs": [],
   "source": [
    "names = [\"Logit\", \"SVC\", \"LGBM\"]\n",
    "classifiers = [\n",
    "    LogisticRegressionCV(cv = 5),\n",
    "    SVC(),\n",
    "    LGBMClassifier()\n",
    "]"
   ]
  },
  {
   "cell_type": "code",
   "execution_count": 95,
   "metadata": {},
   "outputs": [
    {
     "name": "stdout",
     "output_type": "stream",
     "text": [
      "--------------------------------------------------[Logit]--------------------------------------------------\n",
      "Mean Accuracy 0.8552845528455284\n",
      "--------------------------------------------------[SVC]--------------------------------------------------\n",
      "Mean Accuracy 0.8329849012775842\n",
      "--------------------------------------------------[LGBM]--------------------------------------------------\n",
      "Mean Accuracy 0.8357723577235772\n"
     ]
    }
   ],
   "source": [
    "for name, classifier in zip(names, classifiers):\n",
    "    print(\"-\" * 50 + \"[\" + name + \"]\" + \"-\" * 50)\n",
    "    vectorized_X = TfidfVectorizer().fit_transform(train_X)\n",
    "    scores = cross_val_score(classifier, vectorized_X, train_y, cv = 5, scoring = )\n",
    "    print(\"Mean accuracy\", scores.mean())\n",
    "    print(\"Std accuracy\", scores.std())"
   ]
  },
  {
   "cell_type": "code",
   "execution_count": null,
   "metadata": {},
   "outputs": [],
   "source": []
  }
 ],
 "metadata": {
  "kernelspec": {
   "display_name": "Python 3",
   "language": "python",
   "name": "python3"
  },
  "language_info": {
   "codemirror_mode": {
    "name": "ipython",
    "version": 3
   },
   "file_extension": ".py",
   "mimetype": "text/x-python",
   "name": "python",
   "nbconvert_exporter": "python",
   "pygments_lexer": "ipython3",
   "version": "3.8.5"
  }
 },
 "nbformat": 4,
 "nbformat_minor": 4
}
